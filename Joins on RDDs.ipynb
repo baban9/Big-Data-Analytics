{
  "nbformat": 4,
  "nbformat_minor": 0,
  "metadata": {
    "colab": {
      "name": "PySpark RDDs.ipynb",
      "provenance": [],
      "authorship_tag": "ABX9TyM5T+CM3fo5uET9uflLDo48"
    },
    "kernelspec": {
      "name": "python3",
      "display_name": "Python 3"
    }
  },
  "cells": [
    {
      "cell_type": "code",
      "metadata": {
        "id": "suDzAfWsLxwr",
        "colab": {
          "base_uri": "https://localhost:8080/"
        },
        "outputId": "5d09a271-1ab2-41b8-b69a-6fd03120b360"
      },
      "source": [
        "from google.colab import drive\r\n",
        "drive.mount('/content/drive',force_remount=True)"
      ],
      "execution_count": 8,
      "outputs": [
        {
          "output_type": "stream",
          "text": [
            "Mounted at /content/drive\n"
          ],
          "name": "stdout"
        }
      ]
    },
    {
      "cell_type": "code",
      "metadata": {
        "colab": {
          "base_uri": "https://localhost:8080/"
        },
        "id": "RrsTN3aCr8wd",
        "outputId": "6e2d5339-3c1e-443a-e8c4-6113c08f009a"
      },
      "source": [
        "\r\n",
        "import os\r\n",
        "os.chdir('/content/drive/Shareddrives/PySpark')\r\n",
        "!ls"
      ],
      "execution_count": 12,
      "outputs": [
        {
          "output_type": "stream",
          "text": [
            "'PySpark basics'  'PySpark RDDs.ipynb'\t spark-3.0.1-bin-hadoop2.7\n"
          ],
          "name": "stdout"
        }
      ]
    },
    {
      "cell_type": "code",
      "metadata": {
        "id": "09R67Hcgn-jw"
      },
      "source": [
        "!apt-get install openjdk-8-jdk-headless -qq > /dev/null\r\n",
        "# !wget -q http://www.gtlib.gatech.edu/pub/apache/spark/spark-3.0.1/spark-3.0.1-bin-hadoop2.7.tgz\r\n",
        "# !tar -xvf spark-3.0.1-bin-hadoop2.7.tgz"
      ],
      "execution_count": null,
      "outputs": []
    },
    {
      "cell_type": "code",
      "metadata": {
        "id": "UDwHdMGwoM-z"
      },
      "source": [
        "!pip install -q findspark"
      ],
      "execution_count": 14,
      "outputs": []
    },
    {
      "cell_type": "code",
      "metadata": {
        "id": "KTdosZn2n-hE"
      },
      "source": [
        "import os\r\n",
        "os.environ[\"JAVA_HOME\"] = \"/usr/lib/jvm/java-8-openjdk-amd64\"\r\n",
        "os.environ[\"SPARK_HOME\"] = \"/content/drive/Shareddrives/PySpark/spark-3.0.1-bin-hadoop2.7\""
      ],
      "execution_count": 15,
      "outputs": []
    },
    {
      "cell_type": "code",
      "metadata": {
        "id": "iZRGCv6tsdmI"
      },
      "source": [
        "import findspark\r\n",
        "findspark.init()\r\n",
        "from pyspark.sql import SparkSession\r\n",
        "spark = SparkSession.builder.master(\"local[*]\").getOrCreate()\r\n",
        "sc = spark.sparkContext"
      ],
      "execution_count": 17,
      "outputs": []
    },
    {
      "cell_type": "code",
      "metadata": {
        "id": "aq2XlEQDswJg"
      },
      "source": [
        ""
      ],
      "execution_count": 18,
      "outputs": []
    },
    {
      "cell_type": "markdown",
      "metadata": {
        "id": "uBgHXEMFo1gY"
      },
      "source": [
        "## Create a Paired RDD"
      ]
    },
    {
      "cell_type": "markdown",
      "metadata": {
        "id": "zF1I3EifpDC9"
      },
      "source": [
        "- create a paired RDD is by using the map() method. \r\n",
        "\r\n",
        "\r\n",
        "**Creating an RDD with Single Elements**"
      ]
    },
    {
      "cell_type": "code",
      "metadata": {
        "id": "lLDIBusCn-eQ"
      },
      "source": [
        "elements = ['b' , 'd', 'm', 't', 'e', 'u']\r\n",
        "\r\n",
        "element_rdd = sc.parallelize(elements,2)"
      ],
      "execution_count": 19,
      "outputs": []
    },
    {
      "cell_type": "code",
      "metadata": {
        "id": "vB2AIiukn-bj"
      },
      "source": [
        "def identifyvowel(point):\r\n",
        "  if point in ['a','e','i','o','u']:\r\n",
        "    return 1\r\n",
        "  else:\r\n",
        "    return 0"
      ],
      "execution_count": 21,
      "outputs": []
    },
    {
      "cell_type": "code",
      "metadata": {
        "colab": {
          "base_uri": "https://localhost:8080/"
        },
        "id": "BIbbobENpayM",
        "outputId": "708887ce-0892-41fc-99f0-a2972f13d862"
      },
      "source": [
        "# This makes everything into key_value pair \r\n",
        "\r\n",
        "pair_rdd = element_rdd.map(lambda x: (x, identifyvowel(x)))\r\n",
        "\r\n",
        "pair_rdd.collect()"
      ],
      "execution_count": 24,
      "outputs": [
        {
          "output_type": "execute_result",
          "data": {
            "text/plain": [
              "[('b', 0), ('d', 0), ('m', 0), ('t', 0), ('e', 1), ('u', 1)]"
            ]
          },
          "metadata": {
            "tags": []
          },
          "execution_count": 24
        }
      ]
    },
    {
      "cell_type": "code",
      "metadata": {
        "colab": {
          "base_uri": "https://localhost:8080/"
        },
        "id": "WFysP2cQtWwJ",
        "outputId": "4e86840f-fced-49f0-c93c-0b9d77d1ed8d"
      },
      "source": [
        "# capturing the keys \r\n",
        "pair_rdd.keys().collect()\r\n",
        "\r\n",
        "pair_rdd.values().collect()\r\n"
      ],
      "execution_count": 28,
      "outputs": [
        {
          "output_type": "execute_result",
          "data": {
            "text/plain": [
              "[0, 0, 0, 0, 1, 1]"
            ]
          },
          "metadata": {
            "tags": []
          },
          "execution_count": 28
        }
      ]
    },
    {
      "cell_type": "code",
      "metadata": {
        "id": "PeWGlF5Jt0Qs"
      },
      "source": [
        ""
      ],
      "execution_count": null,
      "outputs": []
    },
    {
      "cell_type": "markdown",
      "metadata": {
        "id": "42FVIpGuuAGX"
      },
      "source": [
        "## Aggregation of the data "
      ]
    },
    {
      "cell_type": "markdown",
      "metadata": {
        "id": "RWNYlxgUuKxr"
      },
      "source": [
        "calculate the following:\r\n",
        "* Mean life in hours for bulbs of each filament type\r\n",
        "* Mean life in hours for bulbs of each power level\r\n",
        "* Mean life in hours based on both filament type and power"
      ]
    },
    {
      "cell_type": "code",
      "metadata": {
        "id": "wDODDzN-uDJa"
      },
      "source": [
        "filDataSingle = [['filamentA','100W',605],\r\n",
        "['filamentB','100W',683],\r\n",
        "['filamentB','100W',691],\r\n",
        "['filamentB','200W',561],\r\n",
        "['filamentA','200W',530],\r\n",
        "['filamentA','100W',619],\r\n",
        "['filamentB','100W',686],\r\n",
        "['filamentB','200W',600],\r\n",
        "['filamentB','100W',696],\r\n",
        "['filamentA','200W',579],\r\n",
        "['filamentA','200W',520],\r\n",
        "['filamentA','100W',622],\r\n",
        "['filamentA','100W',668],\r\n",
        "['filamentB','200W',569],\r\n",
        "['filamentB','200W',555],\r\n",
        "['filamentA','200W',541]]\r\n",
        "\r\n",
        "bulb_rdd = sc.parallelize(filDataSingle,2)"
      ],
      "execution_count": 30,
      "outputs": []
    },
    {
      "cell_type": "code",
      "metadata": {
        "colab": {
          "base_uri": "https://localhost:8080/"
        },
        "id": "FNWsa38WukXx",
        "outputId": "3e770d4b-8464-47ba-9405-009ac7e1ed7e"
      },
      "source": [
        "bulb_rdd.take(3)"
      ],
      "execution_count": 31,
      "outputs": [
        {
          "output_type": "execute_result",
          "data": {
            "text/plain": [
              "[['filamentA', '100W', 605],\n",
              " ['filamentB', '100W', 683],\n",
              " ['filamentB', '100W', 691]]"
            ]
          },
          "metadata": {
            "tags": []
          },
          "execution_count": 31
        }
      ]
    },
    {
      "cell_type": "code",
      "metadata": {
        "colab": {
          "base_uri": "https://localhost:8080/"
        },
        "id": "l56nZeHnunzu",
        "outputId": "0afee988-5f8a-4da3-9161-1f8e81b5514c"
      },
      "source": [
        "# to find the mean, add 1 as a counter for the rdd \r\n",
        "\r\n",
        "filament_rdd = bulb_rdd.map(lambda x: (x[0],[x[2],1]))\r\n",
        "\r\n",
        "filament_rdd.take(3)"
      ],
      "execution_count": 33,
      "outputs": [
        {
          "output_type": "execute_result",
          "data": {
            "text/plain": [
              "[('filamentA', [605, 1]), ('filamentB', [683, 1]), ('filamentB', [691, 1])]"
            ]
          },
          "metadata": {
            "tags": []
          },
          "execution_count": 33
        }
      ]
    },
    {
      "cell_type": "markdown",
      "metadata": {
        "id": "UNEOe8hcwzwm"
      },
      "source": [
        "- reduceByKey() \r\n",
        "  - function applies aggregation operators key wise. \r\n",
        "  - It takes an aggregation function as input and applies that function on the values of each RDD key."
      ]
    },
    {
      "cell_type": "code",
      "metadata": {
        "colab": {
          "base_uri": "https://localhost:8080/"
        },
        "id": "00GMKpr8u6gA",
        "outputId": "ebb2e749-6620-466c-cb13-8988de086b28"
      },
      "source": [
        "agg_rdd = filament_rdd.reduceByKey(lambda l1,l2:[l1[0]+l2[0], l1[1]+l2[1]])\r\n",
        "\r\n",
        "agg_rdd.collect()"
      ],
      "execution_count": 34,
      "outputs": [
        {
          "output_type": "execute_result",
          "data": {
            "text/plain": [
              "[('filamentB', [5041, 8]), ('filamentA', [4684, 8])]"
            ]
          },
          "metadata": {
            "tags": []
          },
          "execution_count": 34
        }
      ]
    },
    {
      "cell_type": "code",
      "metadata": {
        "colab": {
          "base_uri": "https://localhost:8080/"
        },
        "id": "5GZ2SpF8x9S2",
        "outputId": "36a1e0d0-2bf4-4da0-fc93-84c9803cbfa4"
      },
      "source": [
        "mean_rdd = agg_rdd.map(lambda l :[l[0],float(l[1][0])/l[1][1]])\r\n",
        "\r\n",
        "mean_rdd.collect()"
      ],
      "execution_count": 40,
      "outputs": [
        {
          "output_type": "execute_result",
          "data": {
            "text/plain": [
              "[['filamentB', 630.125], ['filamentA', 585.5]]"
            ]
          },
          "metadata": {
            "tags": []
          },
          "execution_count": 40
        }
      ]
    },
    {
      "cell_type": "markdown",
      "metadata": {
        "id": "9aUldVCgz5wf"
      },
      "source": [
        "* Mean Lifetime Based on Bulb Power"
      ]
    },
    {
      "cell_type": "code",
      "metadata": {
        "colab": {
          "base_uri": "https://localhost:8080/"
        },
        "id": "Q79wU98OzEPl",
        "outputId": "743c814a-43b0-4c18-af61-4f349c17911c"
      },
      "source": [
        "power_rdd = bulb_rdd.map(lambda x: (x[1],[x[2],1]))\r\n",
        "\r\n",
        "power_rdd.collect()"
      ],
      "execution_count": 41,
      "outputs": [
        {
          "output_type": "execute_result",
          "data": {
            "text/plain": [
              "[('100W', [605, 1]),\n",
              " ('100W', [683, 1]),\n",
              " ('100W', [691, 1]),\n",
              " ('200W', [561, 1]),\n",
              " ('200W', [530, 1]),\n",
              " ('100W', [619, 1]),\n",
              " ('100W', [686, 1]),\n",
              " ('200W', [600, 1]),\n",
              " ('100W', [696, 1]),\n",
              " ('200W', [579, 1]),\n",
              " ('200W', [520, 1]),\n",
              " ('100W', [622, 1]),\n",
              " ('100W', [668, 1]),\n",
              " ('200W', [569, 1]),\n",
              " ('200W', [555, 1]),\n",
              " ('200W', [541, 1])]"
            ]
          },
          "metadata": {
            "tags": []
          },
          "execution_count": 41
        }
      ]
    },
    {
      "cell_type": "code",
      "metadata": {
        "colab": {
          "base_uri": "https://localhost:8080/"
        },
        "id": "DZmvooTn0goy",
        "outputId": "78701cb4-197d-4545-f6e4-023c425d7cad"
      },
      "source": [
        "agg_rdd_power = power_rdd.reduceByKey(lambda l1,l2:[l1[0]+l2[0], l1[1]+l2[1]])\r\n",
        "\r\n",
        "agg_rdd_power.collect()"
      ],
      "execution_count": 45,
      "outputs": [
        {
          "output_type": "execute_result",
          "data": {
            "text/plain": [
              "[('100W', [5270, 8]), ('200W', [4455, 8])]"
            ]
          },
          "metadata": {
            "tags": []
          },
          "execution_count": 45
        }
      ]
    },
    {
      "cell_type": "code",
      "metadata": {
        "colab": {
          "base_uri": "https://localhost:8080/"
        },
        "id": "6YMsavx205u4",
        "outputId": "7100d8b0-8b78-458e-9fdd-caf696e6f170"
      },
      "source": [
        "mean_rdd_power = agg_rdd_power.map(lambda x: [x[0],float(x[1][0]/x[1][1])])\r\n",
        "\r\n",
        "mean_rdd_power.collect()"
      ],
      "execution_count": 46,
      "outputs": [
        {
          "output_type": "execute_result",
          "data": {
            "text/plain": [
              "[['100W', 658.75], ['200W', 556.875]]"
            ]
          },
          "metadata": {
            "tags": []
          },
          "execution_count": 46
        }
      ]
    },
    {
      "cell_type": "markdown",
      "metadata": {
        "id": "5hO2pLkl1oer"
      },
      "source": [
        "**Mean Lifetime Based on Filament Type\r\n",
        "and Power**"
      ]
    },
    {
      "cell_type": "code",
      "metadata": {
        "colab": {
          "base_uri": "https://localhost:8080/"
        },
        "id": "W4bSZ25w1S9y",
        "outputId": "75a370d8-01b4-43ed-8a05-ecfdf36cf840"
      },
      "source": [
        "both_rdd = bulb_rdd.map( lambda val : [(val[0], val[1]),[val[2],1]])\r\n",
        "both_rdd.collect()"
      ],
      "execution_count": 57,
      "outputs": [
        {
          "output_type": "execute_result",
          "data": {
            "text/plain": [
              "[[('filamentA', '100W'), [605, 1]],\n",
              " [('filamentB', '100W'), [683, 1]],\n",
              " [('filamentB', '100W'), [691, 1]],\n",
              " [('filamentB', '200W'), [561, 1]],\n",
              " [('filamentA', '200W'), [530, 1]],\n",
              " [('filamentA', '100W'), [619, 1]],\n",
              " [('filamentB', '100W'), [686, 1]],\n",
              " [('filamentB', '200W'), [600, 1]],\n",
              " [('filamentB', '100W'), [696, 1]],\n",
              " [('filamentA', '200W'), [579, 1]],\n",
              " [('filamentA', '200W'), [520, 1]],\n",
              " [('filamentA', '100W'), [622, 1]],\n",
              " [('filamentA', '100W'), [668, 1]],\n",
              " [('filamentB', '200W'), [569, 1]],\n",
              " [('filamentB', '200W'), [555, 1]],\n",
              " [('filamentA', '200W'), [541, 1]]]"
            ]
          },
          "metadata": {
            "tags": []
          },
          "execution_count": 57
        }
      ]
    },
    {
      "cell_type": "code",
      "metadata": {
        "colab": {
          "base_uri": "https://localhost:8080/"
        },
        "id": "dQXN4iOy1-XD",
        "outputId": "9e2426af-50e5-492b-97f9-e2482fa7a1ea"
      },
      "source": [
        "both_agg = both_rdd.reduceByKey(lambda l1,l2:[l1[0]+l2[0], l1[1]+l2[1]])\r\n",
        "\r\n",
        "both_agg.collect()"
      ],
      "execution_count": 58,
      "outputs": [
        {
          "output_type": "execute_result",
          "data": {
            "text/plain": [
              "[(('filamentB', '100W'), [2756, 4]),\n",
              " (('filamentA', '200W'), [2170, 4]),\n",
              " (('filamentA', '100W'), [2514, 4]),\n",
              " (('filamentB', '200W'), [2285, 4])]"
            ]
          },
          "metadata": {
            "tags": []
          },
          "execution_count": 58
        }
      ]
    },
    {
      "cell_type": "code",
      "metadata": {
        "colab": {
          "base_uri": "https://localhost:8080/"
        },
        "id": "5eU0j3rE2SMT",
        "outputId": "c47fd5d3-7b70-4ab5-c3e3-365c9b547fbc"
      },
      "source": [
        "mean_both = both_agg.map(lambda x: [x[0], float( x[1][0]  /  x[1][1] )  ]  )\r\n",
        "\r\n",
        "mean_both.collect()"
      ],
      "execution_count": 59,
      "outputs": [
        {
          "output_type": "execute_result",
          "data": {
            "text/plain": [
              "[[('filamentB', '100W'), 689.0],\n",
              " [('filamentA', '200W'), 542.5],\n",
              " [('filamentA', '100W'), 628.5],\n",
              " [('filamentB', '200W'), 571.25]]"
            ]
          },
          "metadata": {
            "tags": []
          },
          "execution_count": 59
        }
      ]
    },
    {
      "cell_type": "markdown",
      "metadata": {
        "id": "cTCRL82O4GUs"
      },
      "source": [
        "## Join Data "
      ]
    },
    {
      "cell_type": "markdown",
      "metadata": {
        "id": "wezTx9ww4OKu"
      },
      "source": [
        "perform the following on the Students and Subjects tables:\r\n",
        "\r\n",
        "* Inner join (common in both) **join()**\r\n",
        "  - An inner join returns all the keys that are common to both tables. \r\n",
        "  - It discards the key elements that are not common to both tables\r\n",
        "* Left outer join (left table elements) **leftOuterJoin()**\r\n",
        "  - left outer join includes all keys in the left table and excludes uncommon keys from  the right table. \r\n",
        "  - A left outer join can be performed by using the *leftOuterJoin()* function\r\n",
        "defined on the RDD in PySpark.\r\n",
        "* Right outer join **rightOuterJoin()**\r\n",
        "  - every key of the second table is included, but from the first table, only those keys that are common to both tables are included.\r\n",
        "* Full outer join **fullOuterJoin()** \r\n",
        "  - include all keys from both tables, go for a full outer join."
      ]
    },
    {
      "cell_type": "code",
      "metadata": {
        "id": "n-KoqQdl37jc"
      },
      "source": [
        "studentData = [['si1','Robin','M'],\r\n",
        "['si2','Maria','F'],\r\n",
        "['si3','Julie','F'],\r\n",
        "['si4','Bob', 'M'],\r\n",
        "['si6','William','M']]"
      ],
      "execution_count": 60,
      "outputs": []
    },
    {
      "cell_type": "code",
      "metadata": {
        "id": "q28w3ShB_tN8"
      },
      "source": [
        "subjectsData = [['si1','Python'],\r\n",
        " ['si3','Java'],\r\n",
        "['si1','Java'],\r\n",
        " ['si2','Python'],\r\n",
        "['si3','Ruby'],\r\n",
        " ['si4','C++'],\r\n",
        " ['si5','C'],\r\n",
        "['si4','Python'],\r\n",
        " ['si2','Java']]"
      ],
      "execution_count": 61,
      "outputs": []
    },
    {
      "cell_type": "code",
      "metadata": {
        "id": "h6VldBXJ_3mk"
      },
      "source": [
        "studentRDD = sc.parallelize(studentData, 2)\r\n",
        "\r\n",
        "subjectRDD = sc.parallelize(subjectsData,2)"
      ],
      "execution_count": 62,
      "outputs": []
    },
    {
      "cell_type": "code",
      "metadata": {
        "id": "kwv1bzmAD0RW"
      },
      "source": [
        "# making pair RDD \r\n",
        "\r\n",
        "stu_rdd = studentRDD.map(lambda x: (x[0],[x[1],x[2]]))\r\n",
        "sub_rdd = subjectRDD.map(lambda x: (x[0],[x[1]]))"
      ],
      "execution_count": 68,
      "outputs": []
    },
    {
      "cell_type": "markdown",
      "metadata": {
        "id": "13RMqoluElLg"
      },
      "source": [
        "**INNER JOIN**"
      ]
    },
    {
      "cell_type": "code",
      "metadata": {
        "colab": {
          "base_uri": "https://localhost:8080/"
        },
        "id": "EPYLI-7aEEJA",
        "outputId": "b391238b-d972-4bf8-930b-0face918df5b"
      },
      "source": [
        "inner_rdd = stu_rdd.join(sub_rdd)\r\n",
        "\r\n",
        "inner_rdd.collect()"
      ],
      "execution_count": 69,
      "outputs": [
        {
          "output_type": "execute_result",
          "data": {
            "text/plain": [
              "[('si4', (['Bob', 'M'], ['C++'])),\n",
              " ('si4', (['Bob', 'M'], ['Python'])),\n",
              " ('si3', (['Julie', 'F'], ['Java'])),\n",
              " ('si3', (['Julie', 'F'], ['Ruby'])),\n",
              " ('si1', (['Robin', 'M'], ['Python'])),\n",
              " ('si1', (['Robin', 'M'], ['Java'])),\n",
              " ('si2', (['Maria', 'F'], ['Python'])),\n",
              " ('si2', (['Maria', 'F'], ['Java']))]"
            ]
          },
          "metadata": {
            "tags": []
          },
          "execution_count": 69
        }
      ]
    },
    {
      "cell_type": "markdown",
      "metadata": {
        "id": "lA_G0G7qE8-H"
      },
      "source": [
        "**LEFT OUTER JOIN**"
      ]
    },
    {
      "cell_type": "code",
      "metadata": {
        "colab": {
          "base_uri": "https://localhost:8080/"
        },
        "id": "8ajro2gQEyPF",
        "outputId": "61063df2-5573-4b6a-fed6-cc3b38a42bca"
      },
      "source": [
        "left_rdd = stu_rdd.leftOuterJoin(sub_rdd)\r\n",
        "\r\n",
        "left_rdd.collect()"
      ],
      "execution_count": 70,
      "outputs": [
        {
          "output_type": "execute_result",
          "data": {
            "text/plain": [
              "[('si4', (['Bob', 'M'], ['C++'])),\n",
              " ('si4', (['Bob', 'M'], ['Python'])),\n",
              " ('si6', (['William', 'M'], None)),\n",
              " ('si3', (['Julie', 'F'], ['Java'])),\n",
              " ('si3', (['Julie', 'F'], ['Ruby'])),\n",
              " ('si1', (['Robin', 'M'], ['Python'])),\n",
              " ('si1', (['Robin', 'M'], ['Java'])),\n",
              " ('si2', (['Maria', 'F'], ['Python'])),\n",
              " ('si2', (['Maria', 'F'], ['Java']))]"
            ]
          },
          "metadata": {
            "tags": []
          },
          "execution_count": 70
        }
      ]
    },
    {
      "cell_type": "markdown",
      "metadata": {
        "id": "htYr-V8NFTqE"
      },
      "source": [
        "**RIGHT OUTER JOIN**"
      ]
    },
    {
      "cell_type": "code",
      "metadata": {
        "colab": {
          "base_uri": "https://localhost:8080/"
        },
        "id": "Q7AQzJRxFD49",
        "outputId": "2fe10f59-6ec7-456b-9705-bc528451e476"
      },
      "source": [
        "right_rdd = stu_rdd.rightOuterJoin(sub_rdd)\r\n",
        "\r\n",
        "right_rdd.collect()"
      ],
      "execution_count": 71,
      "outputs": [
        {
          "output_type": "execute_result",
          "data": {
            "text/plain": [
              "[('si4', (['Bob', 'M'], ['C++'])),\n",
              " ('si4', (['Bob', 'M'], ['Python'])),\n",
              " ('si3', (['Julie', 'F'], ['Java'])),\n",
              " ('si3', (['Julie', 'F'], ['Ruby'])),\n",
              " ('si5', (None, ['C'])),\n",
              " ('si1', (['Robin', 'M'], ['Python'])),\n",
              " ('si1', (['Robin', 'M'], ['Java'])),\n",
              " ('si2', (['Maria', 'F'], ['Python'])),\n",
              " ('si2', (['Maria', 'F'], ['Java']))]"
            ]
          },
          "metadata": {
            "tags": []
          },
          "execution_count": 71
        }
      ]
    },
    {
      "cell_type": "markdown",
      "metadata": {
        "id": "yyiRHV_aFhCC"
      },
      "source": [
        "**FULL OUTER JOIN**"
      ]
    },
    {
      "cell_type": "code",
      "metadata": {
        "colab": {
          "base_uri": "https://localhost:8080/"
        },
        "id": "XixcUbScFaGy",
        "outputId": "a6bd3ca7-33fa-4218-a1df-8560b68d15c2"
      },
      "source": [
        "fullOuter_rdd = stu_rdd.fullOuterJoin(sub_rdd)\r\n",
        "\r\n",
        "fullOuter_rdd.collect()"
      ],
      "execution_count": 72,
      "outputs": [
        {
          "output_type": "execute_result",
          "data": {
            "text/plain": [
              "[('si4', (['Bob', 'M'], ['C++'])),\n",
              " ('si4', (['Bob', 'M'], ['Python'])),\n",
              " ('si6', (['William', 'M'], None)),\n",
              " ('si3', (['Julie', 'F'], ['Java'])),\n",
              " ('si3', (['Julie', 'F'], ['Ruby'])),\n",
              " ('si5', (None, ['C'])),\n",
              " ('si1', (['Robin', 'M'], ['Python'])),\n",
              " ('si1', (['Robin', 'M'], ['Java'])),\n",
              " ('si2', (['Maria', 'F'], ['Python'])),\n",
              " ('si2', (['Maria', 'F'], ['Java']))]"
            ]
          },
          "metadata": {
            "tags": []
          },
          "execution_count": 72
        }
      ]
    },
    {
      "cell_type": "code",
      "metadata": {
        "id": "qojb8HPwFnWu"
      },
      "source": [
        ""
      ],
      "execution_count": null,
      "outputs": []
    },
    {
      "cell_type": "markdown",
      "metadata": {
        "id": "m1HFttyLF-iJ"
      },
      "source": [
        "## Page - Rank"
      ]
    },
    {
      "cell_type": "markdown",
      "metadata": {
        "id": "Rs3_-ryUGLsA"
      },
      "source": [
        "The page rank of a particular web page indicates its relative importance within a group of web pages. The higher the page rank, the higher up it will appear in a search result list.\r\n",
        "\r\n",
        "The importance of a page is defined by the importance of all the web pages that provide an outbound link to the web page in consideration. For example, say that web page X has very high relative importance. Web page X is outbounding to web page Y; hence, web page Y will also have high importance."
      ]
    },
    {
      "cell_type": "markdown",
      "metadata": {
        "id": "V8v0tJz0Gd7X"
      },
      "source": [
        "- Algorithm \r\n",
        "\r\n",
        "1. Initialize each page with a page rank of 1 or some arbitrary\r\n",
        "number.\r\n",
        "2. For i in someSequence, do the following:\r\n",
        "\r\n",
        "  a. Calculate the contribution of each inbound page.\r\n",
        "\r\n",
        "  b. Calculate the sum of the contributions.\r\n",
        "\r\n",
        "  c. Determine the updated page rank as follows:\r\n",
        "  \r\n",
        "updated page rank = 1 – s + s × summation of contributions"
      ]
    },
    {
      "cell_type": "code",
      "metadata": {
        "id": "l8aXkhNVGACJ"
      },
      "source": [
        "pageLinks = [['a' ,['b','c','d']],\r\n",
        "['c', ['b']],\r\n",
        "['b', ['d','c']],\r\n",
        "['d', ['a','c']]]\r\n",
        "\r\n"
      ],
      "execution_count": 73,
      "outputs": []
    },
    {
      "cell_type": "code",
      "metadata": {
        "id": "No6Kdic6IL6F"
      },
      "source": [
        "# initialize page ranks (step 1)\r\n",
        "pageRanks = [['a',1],['c',1],\r\n",
        "['b',1],\r\n",
        "['d',1]]"
      ],
      "execution_count": 75,
      "outputs": []
    },
    {
      "cell_type": "code",
      "metadata": {
        "id": "4fV3cv19IREJ"
      },
      "source": [
        "\"\"\"\r\n",
        "function that will take two arguments. \r\n",
        "- The first argument : web page URIs, which provide the outbound links to other web pages.\r\n",
        "- The second argument: rank of the web page accessed through the outbound links that are the first argument. \r\n",
        "\r\n",
        "@ The function will return the contribution to all the web pages in the first argument\r\n",
        "\"\"\"\r\n",
        "\r\n",
        "def rankContribution(uris, rank):\r\n",
        "  numberOfUris = len(uris)\r\n",
        "  rankContribution = float(rank) / numberOfUris\r\n",
        "  newrank =[]\r\n",
        "  for uri in uris:\r\n",
        "    newrank.append((uri, rankContribution))\r\n",
        "  return newrank"
      ],
      "execution_count": 76,
      "outputs": []
    },
    {
      "cell_type": "code",
      "metadata": {
        "id": "BU2X_NbCIxQj"
      },
      "source": [
        "pageLinksRDD = sc.parallelize(pageLinks, 2)\r\n",
        "pageRanksRDD = sc.parallelize(pageRanks, 2)"
      ],
      "execution_count": 77,
      "outputs": []
    },
    {
      "cell_type": "code",
      "metadata": {
        "id": "vdxTnFi2I-no"
      },
      "source": [
        "# define the iteration parameters \r\n",
        "numIter = 20\r\n",
        "s = 0.85"
      ],
      "execution_count": 78,
      "outputs": []
    },
    {
      "cell_type": "code",
      "metadata": {
        "id": "inANPivBJEI_"
      },
      "source": [
        "for i in range(numIter):\r\n",
        "  linksRank = pageLinksRDD.join(pageRanksRDD)\r\n",
        "  contributedRDD = linksRank.flatMap(lambda x : rankContribution(x[1][0],x[1][1]))\r\n",
        "  sumRanks = contributedRDD.reduceByKey(lambda v1,v2 : v1+v2)\r\n",
        "  pageRanksRDD = sumRanks.map(lambda x : (x[0],(1-s)+s*x[1]))"
      ],
      "execution_count": 79,
      "outputs": []
    },
    {
      "cell_type": "code",
      "metadata": {
        "colab": {
          "base_uri": "https://localhost:8080/"
        },
        "id": "tsYFvYvVJ1pC",
        "outputId": "c59e4539-28da-425d-8e3f-c7aa91f47b00"
      },
      "source": [
        "pageRanksRDD.collect()"
      ],
      "execution_count": 80,
      "outputs": [
        {
          "output_type": "execute_result",
          "data": {
            "text/plain": [
              "[('a', 0.5217268024809147),\n",
              " ('b', 1.357243795127982),\n",
              " ('c', 1.2463781024360086),\n",
              " ('d', 0.8746512999550939)]"
            ]
          },
          "metadata": {
            "tags": []
          },
          "execution_count": 80
        }
      ]
    },
    {
      "cell_type": "code",
      "metadata": {
        "id": "dEso6a0KJ9qx"
      },
      "source": [
        ""
      ],
      "execution_count": null,
      "outputs": []
    }
  ]
}