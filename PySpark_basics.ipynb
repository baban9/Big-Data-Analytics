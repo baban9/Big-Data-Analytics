{
  "nbformat": 4,
  "nbformat_minor": 0,
  "metadata": {
    "colab": {
      "name": "PySpark basics",
      "provenance": [],
      "authorship_tag": "ABX9TyOXbMzdioLF5UfJUkK1jtzm"
    },
    "kernelspec": {
      "name": "python3",
      "display_name": "Python 3"
    }
  },
  "cells": [
    {
      "cell_type": "code",
      "metadata": {
        "colab": {
          "base_uri": "https://localhost:8080/"
        },
        "id": "ADx7Fl3Epv-v",
        "outputId": "a599069d-8f35-4fe5-faea-bfd19ed0448b"
      },
      "source": [
        "from google.colab import drive\r\n",
        "drive.mount('/content/drive',force_remount=True)"
      ],
      "execution_count": 1,
      "outputs": [
        {
          "output_type": "stream",
          "text": [
            "Mounted at /content/drive\n"
          ],
          "name": "stdout"
        }
      ]
    },
    {
      "cell_type": "code",
      "metadata": {
        "colab": {
          "base_uri": "https://localhost:8080/"
        },
        "id": "5ES-BWB7p0Rs",
        "outputId": "43e60305-e698-4c96-a645-53e8fb15e655"
      },
      "source": [
        "import os\r\n",
        "os.chdir('/content/drive/Shareddrives/PySpark')\r\n",
        "!ls"
      ],
      "execution_count": 2,
      "outputs": [
        {
          "output_type": "stream",
          "text": [
            "'PySpark basics'\n"
          ],
          "name": "stdout"
        }
      ]
    },
    {
      "cell_type": "code",
      "metadata": {
        "id": "-JeKeORHqBRw"
      },
      "source": [
        "\"\"\" \r\n",
        "\r\n",
        "installing the pyspark dependencies \r\n",
        "\r\n",
        "\"\"\"\r\n",
        "!apt-get install openjdk-8-jdk-headless -qq > /dev/null\r\n",
        "!wget -q http://www.gtlib.gatech.edu/pub/apache/spark/spark-3.0.1/spark-3.0.1-bin-hadoop2.7.tgz\r\n",
        "!tar -xvf spark-3.0.1-bin-hadoop2.7.tgz\r\n",
        "\r\n",
        "!pip install -q findspark\r\n",
        "\r\n",
        "os.environ[\"JAVA_HOME\"] = \"/usr/lib/jvm/java-8-openjdk-amd64\"\r\n",
        "os.environ[\"SPARK_HOME\"] = \"/content/drive/Shareddrives/PySpark/spark-3.0.1-bin-hadoop2.7\""
      ],
      "execution_count": null,
      "outputs": []
    },
    {
      "cell_type": "code",
      "metadata": {
        "id": "VON9xnyPqnAv"
      },
      "source": [
        "import findspark\r\n",
        "findspark.init()\r\n",
        "from pyspark.sql import SparkSession\r\n",
        "spark = SparkSession.builder.master(\"local[*]\").getOrCreate()\r\n",
        "sc = spark.sparkContext"
      ],
      "execution_count": 9,
      "outputs": []
    },
    {
      "cell_type": "markdown",
      "metadata": {
        "id": "cG-9TOLtsrTq"
      },
      "source": [
        "- Parallelize(obj, n)\r\n",
        "  - it will create the data into an RDD. it takes 2 inputs the object and the number of partitions to be made\r\n",
        "\r\n",
        "- first()\r\n",
        "  - It is used to capture or see the first element of the RDD or first row of the dataframe\r\n",
        "\r\n",
        "- take(n)\r\n",
        "  - *take(n)* function grabs the n elements of the RDD \r\n",
        "\r\n",
        "- collect()\r\n",
        "  - order to get all the data on the driver, we can use the collect() function\r\n",
        "\r\n",
        "- getNumPartitions() \r\n",
        "  - In order to optimize PySpark code, a proper distribution of data is required. The numberof partitions of an RDD can be found using the getNumPartitions() function"
      ]
    },
    {
      "cell_type": "code",
      "metadata": {
        "colab": {
          "base_uri": "https://localhost:8080/"
        },
        "id": "XqTlv4BDq2tR",
        "outputId": "831e8582-f63d-41b8-860a-ff4d952f7044"
      },
      "source": [
        "# Converting a list to RDD \r\n",
        "list_obj = [2.3,3.4,4.3,2.4,2.3,4.0]\r\n",
        "\r\n",
        "list_rdd = sc.parallelize(list_obj,2)\r\n",
        "\r\n",
        "# to collect the data \r\n",
        "print(list_rdd.collect())\r\n",
        "\r\n",
        "# get the first element \r\n",
        "print(list_rdd.first())\r\n",
        "\r\n",
        "# get the first 2 elements \r\n",
        "print(list_rdd.take(2))\r\n",
        "\r\n",
        "# get the number of partitions created \r\n",
        "print(list_rdd.getNumPartitions())"
      ],
      "execution_count": 16,
      "outputs": [
        {
          "output_type": "stream",
          "text": [
            "[2.3, 3.4, 4.3, 2.4, 2.3, 4.0]\n",
            "2.3\n",
            "[2.3, 3.4]\n",
            "2\n"
          ],
          "name": "stdout"
        }
      ]
    },
    {
      "cell_type": "markdown",
      "metadata": {
        "id": "ET54XRJWvooa"
      },
      "source": [
        "## Problem 1 : Convert the farentheit temperature into celcius "
      ]
    },
    {
      "cell_type": "markdown",
      "metadata": {
        "id": "166-LfP2wDQE"
      },
      "source": [
        "given a table of temperatures in the farentheit needs to convert it to celcius and get the days temp is above 13c\r\n",
        "\r\n",
        "- map() \r\n",
        "  - Converting one value to another \r\n",
        "\r\n",
        "- filter()\r\n",
        "  - It filter out based on the condition"
      ]
    },
    {
      "cell_type": "code",
      "metadata": {
        "colab": {
          "base_uri": "https://localhost:8080/"
        },
        "id": "HM85MrYXv9fu",
        "outputId": "486c8453-3b7b-47a2-a1b2-9d538fd9310a"
      },
      "source": [
        "# read data \r\n",
        "faren_data = [59,57.2,53.6,55.4,51.8,53.6,55.4]\r\n",
        "\r\n",
        "# make RDD \r\n",
        "faren_rdd = sc.parallelize(faren_data)"
      ],
      "execution_count": 18,
      "outputs": [
        {
          "output_type": "execute_result",
          "data": {
            "text/plain": [
              "[59, 57.2, 53.6, 55.4, 51.8, 53.6, 55.4]"
            ]
          },
          "metadata": {
            "tags": []
          },
          "execution_count": 18
        }
      ]
    },
    {
      "cell_type": "code",
      "metadata": {
        "colab": {
          "base_uri": "https://localhost:8080/"
        },
        "id": "TnRUwaLJwkEz",
        "outputId": "6a6fc70b-61f2-4bdc-a4dc-e3a2de38e5f6"
      },
      "source": [
        "\"\"\"\r\n",
        "function to convert the farenheit data into celcius \r\n",
        "\r\n",
        "\"\"\"\r\n",
        "def getcelcius(faren):\r\n",
        "  return round((faren-32 ) * (5/9),2)\r\n",
        "\r\n",
        "getcelcius(59)"
      ],
      "execution_count": 22,
      "outputs": [
        {
          "output_type": "execute_result",
          "data": {
            "text/plain": [
              "15.0"
            ]
          },
          "metadata": {
            "tags": []
          },
          "execution_count": 22
        }
      ]
    },
    {
      "cell_type": "code",
      "metadata": {
        "colab": {
          "base_uri": "https://localhost:8080/"
        },
        "id": "zyg0HQa8xAIO",
        "outputId": "2694ad0d-1180-4394-d88b-2cc8c8d6bc5c"
      },
      "source": [
        "# while passing the values of the data in the map() it performs actions on all the elements of the RDD \r\n",
        "\r\n",
        "cel_rdd = faren_rdd.map(getcelcius)\r\n",
        "\r\n",
        "cel_rdd.collect()"
      ],
      "execution_count": 23,
      "outputs": [
        {
          "output_type": "execute_result",
          "data": {
            "text/plain": [
              "[15.0, 14.0, 12.0, 13.0, 11.0, 12.0, 13.0]"
            ]
          },
          "metadata": {
            "tags": []
          },
          "execution_count": 23
        }
      ]
    },
    {
      "cell_type": "markdown",
      "metadata": {
        "id": "h_DchBp0xsqk"
      },
      "source": [
        "To filter data, we can use the filter() function on the RDD. We have to provide a predicate as input to the filter() function. \r\n",
        "\r\n",
        "*A predicate is a function that tests a condition\r\n",
        "and returns True or False.*"
      ]
    },
    {
      "cell_type": "markdown",
      "metadata": {
        "id": "mGvXZG1-yHRs"
      },
      "source": [
        "filter() returns the values only which are TRUE. \r\n",
        "\r\n",
        "We can lambda functions too in this regard to filtering out."
      ]
    },
    {
      "cell_type": "code",
      "metadata": {
        "colab": {
          "base_uri": "https://localhost:8080/"
        },
        "id": "8HObhIa9xZUy",
        "outputId": "603b06f7-5fd6-453a-be2b-feb0a1b09d3f"
      },
      "source": [
        "def greater13(tempCelcius):\r\n",
        "  return tempCelcius>=13\r\n",
        "\r\n",
        "greater13(24)"
      ],
      "execution_count": 24,
      "outputs": [
        {
          "output_type": "execute_result",
          "data": {
            "text/plain": [
              "True"
            ]
          },
          "metadata": {
            "tags": []
          },
          "execution_count": 24
        }
      ]
    },
    {
      "cell_type": "code",
      "metadata": {
        "colab": {
          "base_uri": "https://localhost:8080/"
        },
        "id": "oGPPl8bwyAZ-",
        "outputId": "d9332ba2-267f-411a-9138-273c9d257f3b"
      },
      "source": [
        "filtered_rdd = cel_rdd.filter(greater13)\r\n",
        "\r\n",
        "# filtered_rdd.collect()\r\n",
        "\r\n",
        "\r\n",
        "filter_lambda = cel_rdd.filter(lambda x:x>=13)\r\n",
        "\r\n",
        "filter_lambda.collect()"
      ],
      "execution_count": 26,
      "outputs": [
        {
          "output_type": "execute_result",
          "data": {
            "text/plain": [
              "[15.0, 14.0, 13.0, 13.0]"
            ]
          },
          "metadata": {
            "tags": []
          },
          "execution_count": 26
        }
      ]
    },
    {
      "cell_type": "markdown",
      "metadata": {
        "id": "Mp2l5Zrpz1fV"
      },
      "source": [
        "## Problem 2 : Perform Basic Data Manipulation"
      ]
    },
    {
      "cell_type": "markdown",
      "metadata": {
        "id": "KnmNglhq0DVf"
      },
      "source": [
        "* Average grades per semester, each year, for each student\r\n",
        "* Top three students who have the highest average grades in the\r\n",
        "second year\r\n",
        "* Bottom three students who have the lowest average grades in the\r\n",
        "second year\r\n",
        "* All students who have earned more than an 80% average in the\r\n",
        "second semester of the second year"
      ]
    },
    {
      "cell_type": "code",
      "metadata": {
        "id": "DKzQvRxIyeof"
      },
      "source": [
        ""
      ],
      "execution_count": null,
      "outputs": []
    }
  ]
}