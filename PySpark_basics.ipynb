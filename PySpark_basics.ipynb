{
  "nbformat": 4,
  "nbformat_minor": 0,
  "metadata": {
    "colab": {
      "name": "PySpark basics",
      "provenance": [],
      "collapsed_sections": [
        "aMMOGJDkIHr-",
        "ET54XRJWvooa",
        "Mp2l5Zrpz1fV",
        "72qWaNZBC87i"
      ],
      "authorship_tag": "ABX9TyPlmPR01XrJ1wuiLauEb0S/"
    },
    "kernelspec": {
      "name": "python3",
      "display_name": "Python 3"
    }
  },
  "cells": [
    {
      "cell_type": "code",
      "metadata": {
        "colab": {
          "base_uri": "https://localhost:8080/"
        },
        "id": "ADx7Fl3Epv-v",
        "outputId": "a599069d-8f35-4fe5-faea-bfd19ed0448b"
      },
      "source": [
        "from google.colab import drive\r\n",
        "drive.mount('/content/drive',force_remount=True)"
      ],
      "execution_count": 1,
      "outputs": [
        {
          "output_type": "stream",
          "text": [
            "Mounted at /content/drive\n"
          ],
          "name": "stdout"
        }
      ]
    },
    {
      "cell_type": "code",
      "metadata": {
        "colab": {
          "base_uri": "https://localhost:8080/"
        },
        "id": "5ES-BWB7p0Rs",
        "outputId": "43e60305-e698-4c96-a645-53e8fb15e655"
      },
      "source": [
        "import os\r\n",
        "os.chdir('/content/drive/Shareddrives/PySpark')\r\n",
        "!ls"
      ],
      "execution_count": 2,
      "outputs": [
        {
          "output_type": "stream",
          "text": [
            "'PySpark basics'\n"
          ],
          "name": "stdout"
        }
      ]
    },
    {
      "cell_type": "code",
      "metadata": {
        "id": "-JeKeORHqBRw"
      },
      "source": [
        "\"\"\" \r\n",
        "\r\n",
        "installing the pyspark dependencies \r\n",
        "\r\n",
        "\"\"\"\r\n",
        "!apt-get install openjdk-8-jdk-headless -qq > /dev/null\r\n",
        "!wget -q http://www.gtlib.gatech.edu/pub/apache/spark/spark-3.0.1/spark-3.0.1-bin-hadoop2.7.tgz\r\n",
        "!tar -xvf spark-3.0.1-bin-hadoop2.7.tgz\r\n",
        "\r\n",
        "!pip install -q findspark\r\n",
        "\r\n",
        "os.environ[\"JAVA_HOME\"] = \"/usr/lib/jvm/java-8-openjdk-amd64\"\r\n",
        "os.environ[\"SPARK_HOME\"] = \"/content/drive/Shareddrives/PySpark/spark-3.0.1-bin-hadoop2.7\""
      ],
      "execution_count": null,
      "outputs": []
    },
    {
      "cell_type": "code",
      "metadata": {
        "id": "VON9xnyPqnAv"
      },
      "source": [
        "import findspark\r\n",
        "findspark.init()\r\n",
        "from pyspark.sql import SparkSession\r\n",
        "spark = SparkSession.builder.master(\"local[*]\").getOrCreate()\r\n",
        "sc = spark.sparkContext"
      ],
      "execution_count": 9,
      "outputs": []
    },
    {
      "cell_type": "markdown",
      "metadata": {
        "id": "aMMOGJDkIHr-"
      },
      "source": [
        "## Problem 0: Basics"
      ]
    },
    {
      "cell_type": "markdown",
      "metadata": {
        "id": "cG-9TOLtsrTq"
      },
      "source": [
        "- Parallelize(obj, n)\r\n",
        "  - it will create the data into an RDD. it takes 2 inputs the object and the number of partitions to be made\r\n",
        "\r\n",
        "- first()\r\n",
        "  - It is used to capture or see the first element of the RDD or first row of the dataframe\r\n",
        "\r\n",
        "- take(n)\r\n",
        "  - *take(n)* function grabs the n elements of the RDD \r\n",
        "\r\n",
        "- collect()\r\n",
        "  - order to get all the data on the driver, we can use the collect() function\r\n",
        "\r\n",
        "- getNumPartitions() \r\n",
        "  - In order to optimize PySpark code, a proper distribution of data is required. The numberof partitions of an RDD can be found using the getNumPartitions() function"
      ]
    },
    {
      "cell_type": "code",
      "metadata": {
        "colab": {
          "base_uri": "https://localhost:8080/"
        },
        "id": "XqTlv4BDq2tR",
        "outputId": "831e8582-f63d-41b8-860a-ff4d952f7044"
      },
      "source": [
        "# Converting a list to RDD \r\n",
        "list_obj = [2.3,3.4,4.3,2.4,2.3,4.0]\r\n",
        "\r\n",
        "list_rdd = sc.parallelize(list_obj,2)\r\n",
        "\r\n",
        "# to collect the data \r\n",
        "print(list_rdd.collect())\r\n",
        "\r\n",
        "# get the first element \r\n",
        "print(list_rdd.first())\r\n",
        "\r\n",
        "# get the first 2 elements \r\n",
        "print(list_rdd.take(2))\r\n",
        "\r\n",
        "# get the number of partitions created \r\n",
        "print(list_rdd.getNumPartitions())"
      ],
      "execution_count": 16,
      "outputs": [
        {
          "output_type": "stream",
          "text": [
            "[2.3, 3.4, 4.3, 2.4, 2.3, 4.0]\n",
            "2.3\n",
            "[2.3, 3.4]\n",
            "2\n"
          ],
          "name": "stdout"
        }
      ]
    },
    {
      "cell_type": "markdown",
      "metadata": {
        "id": "ET54XRJWvooa"
      },
      "source": [
        "## Problem 1 : Convert the farentheit temperature into celcius "
      ]
    },
    {
      "cell_type": "markdown",
      "metadata": {
        "id": "166-LfP2wDQE"
      },
      "source": [
        "given a table of temperatures in the farentheit needs to convert it to celcius and get the days temp is above 13c\r\n",
        "\r\n",
        "- map() \r\n",
        "  - Converting one value to another \r\n",
        "\r\n",
        "- filter()\r\n",
        "  - It filter out based on the condition"
      ]
    },
    {
      "cell_type": "code",
      "metadata": {
        "colab": {
          "base_uri": "https://localhost:8080/"
        },
        "id": "HM85MrYXv9fu",
        "outputId": "486c8453-3b7b-47a2-a1b2-9d538fd9310a"
      },
      "source": [
        "# read data \r\n",
        "faren_data = [59,57.2,53.6,55.4,51.8,53.6,55.4]\r\n",
        "\r\n",
        "# make RDD \r\n",
        "faren_rdd = sc.parallelize(faren_data)"
      ],
      "execution_count": 18,
      "outputs": [
        {
          "output_type": "execute_result",
          "data": {
            "text/plain": [
              "[59, 57.2, 53.6, 55.4, 51.8, 53.6, 55.4]"
            ]
          },
          "metadata": {
            "tags": []
          },
          "execution_count": 18
        }
      ]
    },
    {
      "cell_type": "code",
      "metadata": {
        "colab": {
          "base_uri": "https://localhost:8080/"
        },
        "id": "TnRUwaLJwkEz",
        "outputId": "6a6fc70b-61f2-4bdc-a4dc-e3a2de38e5f6"
      },
      "source": [
        "\"\"\"\r\n",
        "function to convert the farenheit data into celcius \r\n",
        "\r\n",
        "\"\"\"\r\n",
        "def getcelcius(faren):\r\n",
        "  return round((faren-32 ) * (5/9),2)\r\n",
        "\r\n",
        "getcelcius(59)"
      ],
      "execution_count": 22,
      "outputs": [
        {
          "output_type": "execute_result",
          "data": {
            "text/plain": [
              "15.0"
            ]
          },
          "metadata": {
            "tags": []
          },
          "execution_count": 22
        }
      ]
    },
    {
      "cell_type": "code",
      "metadata": {
        "colab": {
          "base_uri": "https://localhost:8080/"
        },
        "id": "zyg0HQa8xAIO",
        "outputId": "2694ad0d-1180-4394-d88b-2cc8c8d6bc5c"
      },
      "source": [
        "# while passing the values of the data in the map() it performs actions on all the elements of the RDD \r\n",
        "\r\n",
        "cel_rdd = faren_rdd.map(getcelcius)\r\n",
        "\r\n",
        "cel_rdd.collect()"
      ],
      "execution_count": 23,
      "outputs": [
        {
          "output_type": "execute_result",
          "data": {
            "text/plain": [
              "[15.0, 14.0, 12.0, 13.0, 11.0, 12.0, 13.0]"
            ]
          },
          "metadata": {
            "tags": []
          },
          "execution_count": 23
        }
      ]
    },
    {
      "cell_type": "markdown",
      "metadata": {
        "id": "h_DchBp0xsqk"
      },
      "source": [
        "To filter data, we can use the filter() function on the RDD. We have to provide a predicate as input to the filter() function. \r\n",
        "\r\n",
        "*A predicate is a function that tests a condition\r\n",
        "and returns True or False.*"
      ]
    },
    {
      "cell_type": "markdown",
      "metadata": {
        "id": "mGvXZG1-yHRs"
      },
      "source": [
        "filter() returns the values only which are TRUE. \r\n",
        "\r\n",
        "We can lambda functions too in this regard to filtering out."
      ]
    },
    {
      "cell_type": "code",
      "metadata": {
        "colab": {
          "base_uri": "https://localhost:8080/"
        },
        "id": "8HObhIa9xZUy",
        "outputId": "603b06f7-5fd6-453a-be2b-feb0a1b09d3f"
      },
      "source": [
        "def greater13(tempCelcius):\r\n",
        "  return tempCelcius>=13\r\n",
        "\r\n",
        "greater13(24)"
      ],
      "execution_count": 24,
      "outputs": [
        {
          "output_type": "execute_result",
          "data": {
            "text/plain": [
              "True"
            ]
          },
          "metadata": {
            "tags": []
          },
          "execution_count": 24
        }
      ]
    },
    {
      "cell_type": "code",
      "metadata": {
        "colab": {
          "base_uri": "https://localhost:8080/"
        },
        "id": "oGPPl8bwyAZ-",
        "outputId": "d9332ba2-267f-411a-9138-273c9d257f3b"
      },
      "source": [
        "filtered_rdd = cel_rdd.filter(greater13)\r\n",
        "\r\n",
        "# filtered_rdd.collect()\r\n",
        "\r\n",
        "\r\n",
        "filter_lambda = cel_rdd.filter(lambda x:x>=13)\r\n",
        "\r\n",
        "filter_lambda.collect()"
      ],
      "execution_count": 26,
      "outputs": [
        {
          "output_type": "execute_result",
          "data": {
            "text/plain": [
              "[15.0, 14.0, 13.0, 13.0]"
            ]
          },
          "metadata": {
            "tags": []
          },
          "execution_count": 26
        }
      ]
    },
    {
      "cell_type": "markdown",
      "metadata": {
        "id": "Mp2l5Zrpz1fV"
      },
      "source": [
        "## Problem 2 : Perform Basic Data Manipulation"
      ]
    },
    {
      "cell_type": "markdown",
      "metadata": {
        "id": "KnmNglhq0DVf"
      },
      "source": [
        "* Average grades per semester, each year, for each student\r\n",
        "* Top three students who have the highest average grades in the\r\n",
        "second year\r\n",
        "* Bottom three students who have the lowest average grades in the\r\n",
        "second year\r\n",
        "* All students who have earned more than an 80% average in the\r\n",
        "second semester of the second year"
      ]
    },
    {
      "cell_type": "markdown",
      "metadata": {
        "id": "_Mhxmdpo70Hz"
      },
      "source": [
        "**Solution**\r\n",
        "\r\n",
        "- takeOrdered(k)\r\n",
        "  - function is going to take the top k or top bottom elements from our RDD."
      ]
    },
    {
      "cell_type": "code",
      "metadata": {
        "id": "DKzQvRxIyeof"
      },
      "source": [
        "studentMarksData = [[\"si1\",\"year1\",62.08,62.4],\r\n",
        "                    [\"si1\",\"year2\",75.94,76.75],\r\n",
        "                    [\"si2\",\"year1\",68.26,72.95],\r\n",
        "                    [\"si2\",\"year2\",85.49,75.8],\r\n",
        "                    [\"si3\",\"year1\",75.08,79.84],\r\n",
        "                    [\"si3\",\"year2\",54.98,87.72],\r\n",
        "                    [\"si4\",\"year1\",50.03,66.85],\r\n",
        "                    [\"si4\",\"year2\",71.26,69.77],\r\n",
        "                    [\"si5\",\"year1\",52.74,76.27],\r\n",
        "                    [\"si5\",\"year2\",50.39,68.58],\r\n",
        "                    [\"si6\",\"year1\",74.86,60.8],\r\n",
        "                    [\"si6\",\"year2\",58.29,62.38],\r\n",
        "                    [\"si7\",\"year1\",63.95,74.51],\r\n",
        "                    [\"si7\",\"year2\",66.69,56.92]]\r\n",
        "\r\n",
        "marks_rdd = sc.parallelize(studentMarksData,4)"
      ],
      "execution_count": 27,
      "outputs": []
    },
    {
      "cell_type": "code",
      "metadata": {
        "colab": {
          "base_uri": "https://localhost:8080/"
        },
        "id": "uyXPvhMH8fVJ",
        "outputId": "bb0c2c73-c0a9-4eba-92dc-50a77abe2d92"
      },
      "source": [
        "marks_rdd.take(2)"
      ],
      "execution_count": 28,
      "outputs": [
        {
          "output_type": "execute_result",
          "data": {
            "text/plain": [
              "[['si1', 'year1', 62.08, 62.4], ['si1', 'year2', 75.94, 76.75]]"
            ]
          },
          "metadata": {
            "tags": []
          },
          "execution_count": 28
        }
      ]
    },
    {
      "cell_type": "code",
      "metadata": {
        "colab": {
          "base_uri": "https://localhost:8080/"
        },
        "id": "KdARxSqh8iPY",
        "outputId": "d873e465-510c-4d21-a488-f2abeca64e3e"
      },
      "source": [
        "# calculating the average using map() \r\n",
        "\r\n",
        "marks_mean = marks_rdd.map(lambda x: [x[0],x[1], (x[2]+x[3])/2])\r\n",
        "\r\n",
        "marks_mean.take(2)"
      ],
      "execution_count": 32,
      "outputs": [
        {
          "output_type": "execute_result",
          "data": {
            "text/plain": [
              "[['si1', 'year1', 62.239999999999995], ['si1', 'year2', 76.345]]"
            ]
          },
          "metadata": {
            "tags": []
          },
          "execution_count": 32
        }
      ]
    },
    {
      "cell_type": "code",
      "metadata": {
        "id": "MxJhRs8B9fUR"
      },
      "source": [
        "# filter year 2 , and get the top 3 performers\r\n",
        "\r\n",
        "year2 = marks_mean.filter(lambda x: \"year2\" in x)\r\n",
        "\r\n",
        "# year2.take(2) \r\n",
        "\r\n",
        " \r\n"
      ],
      "execution_count": 36,
      "outputs": []
    },
    {
      "cell_type": "markdown",
      "metadata": {
        "id": "R78H9S3Z-uQU"
      },
      "source": [
        "The first method is to sort the full data according to grades. \r\n",
        "\r\n",
        "Sorting is done by the sortBy() function"
      ]
    },
    {
      "cell_type": "code",
      "metadata": {
        "colab": {
          "base_uri": "https://localhost:8080/"
        },
        "id": "0n0a2zLn-WSO",
        "outputId": "3ceae80d-2975-446f-aadc-7017ff6fe3bb"
      },
      "source": [
        "sorted_rdd = year2.sortBy(keyfunc=lambda x: -x[2])\r\n",
        "\r\n",
        "sorted_rdd.take(3)"
      ],
      "execution_count": 37,
      "outputs": [
        {
          "output_type": "execute_result",
          "data": {
            "text/plain": [
              "[['si2', 'year2', 80.645], ['si1', 'year2', 76.345], ['si3', 'year2', 71.35]]"
            ]
          },
          "metadata": {
            "tags": []
          },
          "execution_count": 37
        }
      ]
    },
    {
      "cell_type": "markdown",
      "metadata": {
        "id": "WTZUxWXF_SEp"
      },
      "source": [
        "* Optimal method is using takeOrdered() \r\n",
        "  - This function takes two arguments: the number of elements we require, and key, which uses a lambda function to determine how to take the data out.\r\n",
        "\r\n",
        "  -- it returns out a list"
      ]
    },
    {
      "cell_type": "code",
      "metadata": {
        "colab": {
          "base_uri": "https://localhost:8080/"
        },
        "id": "pOsv1Vdb-__4",
        "outputId": "2bbe4b70-5b42-416d-9969-30cedb90f278"
      },
      "source": [
        "top3 = year2.takeOrdered(num=3,key=lambda x: -x[2])\r\n",
        "\r\n",
        "top3"
      ],
      "execution_count": 40,
      "outputs": [
        {
          "output_type": "execute_result",
          "data": {
            "text/plain": [
              "[['si2', 'year2', 80.645], ['si1', 'year2', 76.345], ['si3', 'year2', 71.35]]"
            ]
          },
          "metadata": {
            "tags": []
          },
          "execution_count": 40
        }
      ]
    },
    {
      "cell_type": "code",
      "metadata": {
        "colab": {
          "base_uri": "https://localhost:8080/"
        },
        "id": "x_pAdJ9__n8o",
        "outputId": "5d01d756-0c71-4064-af55-a2140c628d74"
      },
      "source": [
        "above_80 = marks_mean.filter(lambda x: x[2]>80)\r\n",
        "\r\n",
        "above_80.take(5)"
      ],
      "execution_count": 41,
      "outputs": [
        {
          "output_type": "execute_result",
          "data": {
            "text/plain": [
              "[['si2', 'year2', 80.645]]"
            ]
          },
          "metadata": {
            "tags": []
          },
          "execution_count": 41
        }
      ]
    },
    {
      "cell_type": "markdown",
      "metadata": {
        "id": "72qWaNZBC87i"
      },
      "source": [
        "## Problem 3 : Run Set Operations"
      ]
    },
    {
      "cell_type": "markdown",
      "metadata": {
        "id": "uYrMePoRD2qz"
      },
      "source": [
        "- How many research projects were initiated in the three years?\r\n",
        "- How many projects were completed in the first year?\r\n",
        "- How many projects were completed in the first two years?"
      ]
    },
    {
      "cell_type": "code",
      "metadata": {
        "id": "N49rNsNJAMs7"
      },
      "source": [
        "data2001 = ['RIN1', 'RIN2', 'RIN3', 'RIN4', 'RIN5', 'RIN6', 'RIN7']\r\n",
        "data2002 = ['RIN3', 'RIN4', 'RIN7', 'RIN8', 'RIN9']\r\n",
        "data2003 = ['RIN4', 'RIN8', 'RIN10', 'RIN11', 'RIN12']"
      ],
      "execution_count": 42,
      "outputs": []
    },
    {
      "cell_type": "code",
      "metadata": {
        "id": "1wcjXtkvC8AJ"
      },
      "source": [
        "# conversion to RDD \r\n",
        "Data2001 = sc.parallelize(data2001,2)\r\n",
        "Data2002 = sc.parallelize(data2002,2)\r\n",
        "Data2003 = sc.parallelize(data2003,2)"
      ],
      "execution_count": 43,
      "outputs": []
    },
    {
      "cell_type": "markdown",
      "metadata": {
        "id": "VS3sK9RdEomW"
      },
      "source": [
        "- union()\r\n",
        "  - RDD union() takes another RDD as input and returns, merging these two RDDs.\r\n",
        "\r\n",
        "- distint()\r\n",
        "  - get rid of the duplicates \r\n",
        "\r\n",
        "- count() \r\n",
        "  - returns the count of the elements\r\n",
        "\r\n",
        "- subtract()\r\n",
        "  - set differnce\r\n",
        "\r\n",
        "- intersection() \r\n",
        "  - get the intersection of the 2 sets "
      ]
    },
    {
      "cell_type": "code",
      "metadata": {
        "colab": {
          "base_uri": "https://localhost:8080/"
        },
        "id": "0aatPpE7EhAu",
        "outputId": "e75acd0d-610b-4239-d130-1664aaadbb33"
      },
      "source": [
        "\"\"\"\r\n",
        "The total number of projects initiated in three years is determined just by getting the\r\n",
        "union of all the data for the given three years.\r\n",
        "\"\"\"\r\n",
        "\r\n",
        "union0102 = Data2001.union(Data2002)\r\n",
        "unionAll = union0102.union(Data2003)\r\n",
        "\r\n",
        "# getting rid of duplicates \r\n",
        "\r\n",
        "researchs = unionAll.distinct().count()\r\n",
        "\r\n",
        "researchs"
      ],
      "execution_count": 47,
      "outputs": [
        {
          "output_type": "execute_result",
          "data": {
            "text/plain": [
              "12"
            ]
          },
          "metadata": {
            "tags": []
          },
          "execution_count": 47
        }
      ]
    },
    {
      "cell_type": "code",
      "metadata": {
        "colab": {
          "base_uri": "https://localhost:8080/"
        },
        "id": "ixdinWiLE-8d",
        "outputId": "da1bafe0-ab71-4b86-85d0-53ad6fef8055"
      },
      "source": [
        "# in telescopic fashion \r\n",
        "\r\n",
        "researchs = Data2001.union(Data2002).\\\r\n",
        "            union(Data2003).\\\r\n",
        "            distinct().\\\r\n",
        "            count()\r\n",
        "\r\n",
        "researchs"
      ],
      "execution_count": 48,
      "outputs": [
        {
          "output_type": "execute_result",
          "data": {
            "text/plain": [
              "12"
            ]
          },
          "metadata": {
            "tags": []
          },
          "execution_count": 48
        }
      ]
    },
    {
      "cell_type": "code",
      "metadata": {
        "colab": {
          "base_uri": "https://localhost:8080/"
        },
        "id": "ooFzUQyEGBiV",
        "outputId": "e97b3af1-9422-4095-f80a-620478c6df00"
      },
      "source": [
        "# Finding Projects Completed the First Year \r\n",
        "\r\n",
        "year1_projects = Data2001.subtract(Data2002)\r\n",
        "\r\n",
        "# year1_projects.collect()\r\n",
        "\r\n",
        "# Finding Projects Completed in the First Two Years \r\n",
        "year12_projects = Data2001.union(Data2002).subtract(Data2003).distinct()\r\n",
        "\r\n",
        "year12_projects.collect()"
      ],
      "execution_count": 51,
      "outputs": [
        {
          "output_type": "execute_result",
          "data": {
            "text/plain": [
              "['RIN1', 'RIN2', 'RIN3', 'RIN5', 'RIN9', 'RIN6', 'RIN7']"
            ]
          },
          "metadata": {
            "tags": []
          },
          "execution_count": 51
        }
      ]
    },
    {
      "cell_type": "code",
      "metadata": {
        "colab": {
          "base_uri": "https://localhost:8080/"
        },
        "id": "SYrShkHzGzkX",
        "outputId": "979fd114-dd26-490f-cffe-845d350f572c"
      },
      "source": [
        "# Finding Projects Started in 2001 and Continued Through 2003.\r\n",
        "\r\n",
        "long_projects = Data2001.intersection(Data2002).subtract(Data2003).distinct()\r\n",
        "\r\n",
        "long_projects.collect()"
      ],
      "execution_count": 54,
      "outputs": [
        {
          "output_type": "execute_result",
          "data": {
            "text/plain": [
              "['RIN3', 'RIN7']"
            ]
          },
          "metadata": {
            "tags": []
          },
          "execution_count": 54
        }
      ]
    },
    {
      "cell_type": "markdown",
      "metadata": {
        "id": "-XI1je0SH9GE"
      },
      "source": [
        "# Problem 4 : Calculate Summary Statistics"
      ]
    },
    {
      "cell_type": "markdown",
      "metadata": {
        "id": "NfTe4yeKIde2"
      },
      "source": [
        "calculate the following quantities:\r\n",
        "* Number of data points\r\n",
        "* Summation of air velocities over a day\r\n",
        "* Mean air velocity in a day\r\n",
        "* Variance of air data\r\n",
        "* Sample variance of air data\r\n",
        "* Standard deviation of air data\r\n",
        "* Sample standard deviation of air data"
      ]
    },
    {
      "cell_type": "markdown",
      "metadata": {
        "id": "H6Y_dcVqItEK"
      },
      "source": [
        "**Solution**\r\n",
        "- sum() & reduce() \r\n",
        "  - There are two ways to sum all the data in a given RDD. The first is to apply the sum() method to the RDD. The second is to apply the reduce() function to the RDD.\r\n",
        "\r\n",
        "- mean() & fold() \r\n",
        "  - it can be calculated in two ways too. We are going to use the mean() method and the fold() method to calculate the mean.\r\n",
        "\r\n",
        "- variance() & samplevariance()\r\n",
        "  - can be calculated using the variance() function. Similarly, the sample variance can be calculated by using the sampleVariance() method on the RDD.\r\n",
        "\r\n",
        "- standard deviation stdev() & sampleStdev() \r\n",
        "  - Standard deviation and sample standard deviation will be calculated using the stdev() and sampleStdev() methods, respectively.\r\n",
        "\r\n",
        "- stats()\r\n",
        "  - PySpark provides the stats() method, which can calculate all the previously mentioned quantities in one go."
      ]
    },
    {
      "cell_type": "code",
      "metadata": {
        "id": "PrDpVBuCICtg"
      },
      "source": [
        "data = [12,13,15,12,11,12,11]\r\n",
        "data_rdd = sc.parallelize(data,2)"
      ],
      "execution_count": 56,
      "outputs": []
    },
    {
      "cell_type": "code",
      "metadata": {
        "colab": {
          "base_uri": "https://localhost:8080/"
        },
        "id": "abSbDpTGJjvV",
        "outputId": "ae898b52-1662-46bc-b361-beb606519c20"
      },
      "source": [
        "print(data_rdd.collect())\r\n",
        "\r\n",
        "# number of data points \r\n",
        "\r\n",
        "print(data_rdd.count()) \r\n",
        "\r\n",
        "# summing the data \r\n",
        "print(data_rdd.sum())\r\n",
        "\r\n",
        "# mean of the data \r\n",
        "print(data_rdd.mean())\r\n",
        "\r\n",
        "# variance of the data \r\n",
        "print(data_rdd.variance())\r\n",
        "\r\n",
        "# sample variance of the data \r\n",
        "print(data_rdd.sampleVariance())\r\n",
        "\r\n",
        "# Standard deviation of the data \r\n",
        "print(data_rdd.stdev())\r\n",
        "\r\n",
        "# sample standard deviation \r\n",
        "print(data_rdd.sampleStdev())"
      ],
      "execution_count": 64,
      "outputs": [
        {
          "output_type": "stream",
          "text": [
            "[12, 13, 15, 12, 11, 12, 11]\n",
            "7\n",
            "86\n",
            "12.285714285714286\n",
            "1.63265306122449\n",
            "1.904761904761905\n",
            "1.2777531299998799\n",
            "1.3801311186847085\n"
          ],
          "name": "stdout"
        }
      ]
    },
    {
      "cell_type": "code",
      "metadata": {
        "colab": {
          "base_uri": "https://localhost:8080/"
        },
        "id": "xU-09QMCJp-B",
        "outputId": "4122c5fb-2d95-4586-8bb2-012d01755c3a"
      },
      "source": [
        "# get the stats in a one go \r\n",
        "print(data_rdd.stats())\r\n",
        "\r\n",
        "# this results as tuple. \r\n",
        "# Can also be saved into dictionary \r\n",
        "print(data_rdd.stats().asDict())\r\n",
        "\r\n",
        "# individual stats can also be obtained by running the function in telescope view  \r\n",
        "print(data_rdd.stats().mean())"
      ],
      "execution_count": 67,
      "outputs": [
        {
          "output_type": "stream",
          "text": [
            "(count: 7, mean: 12.285714285714286, stdev: 1.2777531299998799, max: 15.0, min: 11.0)\n",
            "{'count': 7, 'mean': 12.285714285714286, 'sum': 86.0, 'min': 11.0, 'max': 15.0, 'stdev': 1.3801311186847085, 'variance': 1.904761904761905}\n",
            "12.285714285714286\n"
          ],
          "name": "stdout"
        }
      ]
    },
    {
      "cell_type": "code",
      "metadata": {
        "id": "noimv5BlKgjZ"
      },
      "source": [
        ""
      ],
      "execution_count": null,
      "outputs": []
    }
  ]
}